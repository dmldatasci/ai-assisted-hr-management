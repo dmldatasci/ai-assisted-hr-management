{
 "cells": [
  {
   "cell_type": "markdown",
   "id": "ecba43de",
   "metadata": {},
   "source": [
    "# AI-Assisted HR Management System – Exploratory Phase\n",
    "\n",
    "## Motivation\n",
    "\n",
    "This project was inspired by the observation that HR management systems are often built on cumbersome legacy systems that rely on HR managers to conduct a series of tasks anytime an employee is hired, terminated, moved to a different department, or given a new set of responsibilities. Because HR managers are often overtaxed—responsible for hundreds or thousands of employees—and have pressing legal matters to attend to, HR systems and org charts are outdated and inaccurate more often than not.\n",
    "\n",
    "This exploratory notebook is intended to explore three aspects of the application we intend to build so that our approach to the code is optimized:\n",
    "\n",
    "\n",
    "### *__1 – Data Structures__*\n",
    "\n",
    "Our intent is to develop the core data management system through use of the Python library `anytree`. We want to ensure that the data structure is tractable and scalable.\n",
    "\n",
    "### *__2 – Data Storage__*\n",
    "\n",
    "We intend to explore the ideal data storage practices that will maximize traversibility by an AI agent while ensuring that storage is secure, and cost-efficient.\n",
    "\n",
    "### *__3 – AI Applications__*\n",
    "\n",
    "We want to explore the ways in which generative AI can add value to an HR system. In order to do that we'll need to find an ideal way to vectorize our HR data so that.\n",
    "***"
   ]
  },
  {
   "cell_type": "markdown",
   "id": "46872ab4",
   "metadata": {},
   "source": [
    "## Data Structures\n",
    "\n",
    "### Investigating the Utility of  `anytree`\n",
    "\n",
    "Let's start with an install:"
   ]
  },
  {
   "cell_type": "code",
   "execution_count": 1,
   "id": "f6134c4c",
   "metadata": {},
   "outputs": [],
   "source": [
    "!pip install anytree -q"
   ]
  },
  {
   "cell_type": "markdown",
   "id": "ea4a8d0a",
   "metadata": {},
   "source": [
    "And proceed to explore some of the basic functionality we might need:"
   ]
  },
  {
   "cell_type": "code",
   "execution_count": 71,
   "id": "a6a99ac3",
   "metadata": {},
   "outputs": [],
   "source": [
    "from anytree import AnyNode, RenderTree, AsciiStyle, LevelOrderGroupIter\n",
    "\n",
    "root = AnyNode(id='CEO', fte=1.0, children=[\n",
    "    AnyNode(id='COO', mgmt_lvl='C-Suite', fte=1.0, children=[\n",
    "        AnyNode(id='VP, Strategy & Operations', mgmt_lvl='Executive Director', fte=1.0),\n",
    "        AnyNode(id='EVP, Content Platforms', mgmt_lvl='Executive Director', fte=1.0, children=[\n",
    "            AnyNode(id='Director, Streaming Performance', mgmt_lvl='Director', fte=1.0, children=[\n",
    "                AnyNode(id='Manager, Streaming Analytics', mgmt_lvl='Manager', fte=1.0, children=[\n",
    "                    AnyNode(id='Data Analyst', mgmt_lvl='Individual Contributor', fte=0.8)\n",
    "                ]),\n",
    "                AnyNode(id='Manager, Streaming Marketing Strategy', mgmt_lvl='Manager', fte=1.3, children=[\n",
    "                    AnyNode(id='Coordinator, Social Media Marketing', mgmt_lvl='Manager', fte=1.0),\n",
    "                    AnyNode(id='Coordinator, Print & Digital Marketing', mgmt_lvl='Manager', fte=1.0)\n",
    "                ])\n",
    "            ])\n",
    "        ])\n",
    "    ]),\n",
    "    AnyNode(id='CFO', mgmt_lvl='C-Suite', fte=1.0),\n",
    "    AnyNode(id='CMBO', mgmt_lvl='C-Suite', fte=1.0)\n",
    "])"
   ]
  },
  {
   "cell_type": "code",
   "execution_count": 72,
   "id": "4afa516f",
   "metadata": {},
   "outputs": [
    {
     "name": "stdout",
     "output_type": "stream",
     "text": [
      "AnyNode(fte=1.0, id='CEO')\n",
      "├── AnyNode(fte=1.0, id='COO', mgmt_lvl='C-Suite')\n",
      "│   ├── AnyNode(fte=1.0, id='VP, Strategy & Operations', mgmt_lvl='Executive Director')\n",
      "│   └── AnyNode(fte=1.0, id='EVP, Content Platforms', mgmt_lvl='Executive Director')\n",
      "│       └── AnyNode(fte=1.0, id='Director, Streaming Performance', mgmt_lvl='Director')\n",
      "│           ├── AnyNode(fte=1.0, id='Manager, Streaming Analytics', mgmt_lvl='Manager')\n",
      "│           │   └── AnyNode(fte=0.8, id='Data Analyst', mgmt_lvl='Individual Contributor')\n",
      "│           └── AnyNode(fte=1.3, id='Manager, Streaming Marketing Strategy', mgmt_lvl='Manager')\n",
      "│               ├── AnyNode(fte=1.0, id='Coordinator, Social Media Marketing', mgmt_lvl='Manager')\n",
      "│               └── AnyNode(fte=1.0, id='Coordinator, Print & Digital Marketing', mgmt_lvl='Manager')\n",
      "├── AnyNode(fte=1.0, id='CFO', mgmt_lvl='C-Suite')\n",
      "└── AnyNode(fte=1.0, id='CMBO', mgmt_lvl='C-Suite')\n"
     ]
    }
   ],
   "source": [
    "print(RenderTree(root))"
   ]
  },
  {
   "cell_type": "code",
   "execution_count": 73,
   "id": "7f4b04b2",
   "metadata": {},
   "outputs": [
    {
     "name": "stdout",
     "output_type": "stream",
     "text": [
      "CEO\n",
      "├── COO\n",
      "│   ├── VP, Strategy & Operations\n",
      "│   └── EVP, Content Platforms\n",
      "│       └── Director, Streaming Performance\n",
      "│           ├── Manager, Streaming Analytics\n",
      "│           │   └── Data Analyst\n",
      "│           └── Manager, Streaming Marketing Strategy\n",
      "│               ├── Coordinator, Social Media Marketing\n",
      "│               └── Coordinator, Print & Digital Marketing\n",
      "├── CFO\n",
      "└── CMBO\n"
     ]
    }
   ],
   "source": [
    "for pre, _, node in RenderTree(root):\n",
    "    print(\"%s%s\" % (pre, node.id))"
   ]
  },
  {
   "cell_type": "code",
   "execution_count": 74,
   "id": "fbae0bd7",
   "metadata": {},
   "outputs": [
    {
     "name": "stdout",
     "output_type": "stream",
     "text": [
      "CEO\n",
      "├── COO\n",
      "│   ├── VP, Strategy & Operations\n",
      "│   └── EVP, Content Platforms\n",
      "│       └── Director, Streaming Performance\n",
      "│           ├── Manager, Streaming Analytics\n",
      "│           │   └── Data Analyst\n",
      "│           └── Manager, Streaming Marketing Strategy\n",
      "│               ├── Coordinator, Social Media Marketing\n",
      "│               └── Coordinator, Print & Digital Marketing\n",
      "├── CFO\n",
      "└── CMBO\n"
     ]
    }
   ],
   "source": [
    "print(RenderTree(root).by_attr('id'))"
   ]
  },
  {
   "cell_type": "code",
   "execution_count": 75,
   "id": "5e465086",
   "metadata": {},
   "outputs": [
    {
     "data": {
      "text/plain": [
       "(AnyNode(fte=1.0, id='COO', mgmt_lvl='C-Suite'),\n",
       " AnyNode(fte=1.0, id='CFO', mgmt_lvl='C-Suite'),\n",
       " AnyNode(fte=1.0, id='CMBO', mgmt_lvl='C-Suite'))"
      ]
     },
     "execution_count": 75,
     "metadata": {},
     "output_type": "execute_result"
    }
   ],
   "source": [
    "root.children"
   ]
  },
  {
   "cell_type": "code",
   "execution_count": 77,
   "id": "608b5928",
   "metadata": {},
   "outputs": [],
   "source": [
    "level_summaries = [[node.fte for node in children] for children in LevelOrderGroupIter(root)]"
   ]
  },
  {
   "cell_type": "code",
   "execution_count": 82,
   "id": "ce5debd2",
   "metadata": {},
   "outputs": [],
   "source": [
    "dir_count = 0\n",
    "ind_count = 0\n",
    "i = 0\n",
    "\n",
    "for l in level_summaries:\n",
    "    \n",
    "    if i == 1:\n",
    "        dir_count += sum(l)\n",
    "        \n",
    "    if i > 1:\n",
    "        ind_count += sum(l)\n",
    "        \n",
    "    i += 1"
   ]
  },
  {
   "cell_type": "code",
   "execution_count": 83,
   "id": "75536cfd",
   "metadata": {},
   "outputs": [
    {
     "data": {
      "text/plain": [
       "3.0"
      ]
     },
     "execution_count": 83,
     "metadata": {},
     "output_type": "execute_result"
    }
   ],
   "source": [
    "dir_count"
   ]
  },
  {
   "cell_type": "code",
   "execution_count": 84,
   "id": "e722ccbb",
   "metadata": {},
   "outputs": [
    {
     "data": {
      "text/plain": [
       "8.1"
      ]
     },
     "execution_count": 84,
     "metadata": {},
     "output_type": "execute_result"
    }
   ],
   "source": [
    "ind_count"
   ]
  },
  {
   "cell_type": "code",
   "execution_count": 48,
   "id": "a72e8a36",
   "metadata": {},
   "outputs": [],
   "source": [
    "other = root.children[0].children[1]"
   ]
  },
  {
   "cell_type": "code",
   "execution_count": 51,
   "id": "8f2cb474",
   "metadata": {},
   "outputs": [
    {
     "name": "stdout",
     "output_type": "stream",
     "text": [
      "EVP, Content Platforms\n",
      "└── Director, Streaming Performance\n",
      "    ├── Manager, Streaming Analytics\n",
      "    │   └── Data Analyst\n",
      "    └── Manager, Streaming Marketing Strategy\n",
      "        ├── Coordinator, Social Media Marketing\n",
      "        └── Coordinator, Print & Digital Marketing\n"
     ]
    }
   ],
   "source": [
    "print(RenderTree(other).by_attr('id'))"
   ]
  },
  {
   "cell_type": "markdown",
   "id": "54a618e1",
   "metadata": {},
   "source": [
    "Looks like this will serve our needs pretty well. So now let's import a dataset and try to wrangle it into something that approaches sense:"
   ]
  },
  {
   "cell_type": "code",
   "execution_count": 55,
   "id": "a08f9b95",
   "metadata": {},
   "outputs": [],
   "source": [
    " structure = [[node.id for node in children] for children in LevelOrderGroupIter(other)]"
   ]
  },
  {
   "cell_type": "code",
   "execution_count": 58,
   "id": "35f35f1f",
   "metadata": {},
   "outputs": [
    {
     "data": {
      "text/plain": [
       "4"
      ]
     },
     "execution_count": 58,
     "metadata": {},
     "output_type": "execute_result"
    }
   ],
   "source": [
    "len(structure)"
   ]
  },
  {
   "cell_type": "code",
   "execution_count": null,
   "id": "c934f7af",
   "metadata": {},
   "outputs": [],
   "source": [
    "def IndirectReports(start_node):\n",
    "    \n",
    "    return tree"
   ]
  }
 ],
 "metadata": {
  "kernelspec": {
   "display_name": "Python 3 (ipykernel)",
   "language": "python",
   "name": "python3"
  },
  "language_info": {
   "codemirror_mode": {
    "name": "ipython",
    "version": 3
   },
   "file_extension": ".py",
   "mimetype": "text/x-python",
   "name": "python",
   "nbconvert_exporter": "python",
   "pygments_lexer": "ipython3",
   "version": "3.9.16"
  }
 },
 "nbformat": 4,
 "nbformat_minor": 5
}
